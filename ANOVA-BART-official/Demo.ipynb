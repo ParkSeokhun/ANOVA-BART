{
 "cells": [
  {
   "cell_type": "code",
   "execution_count": 1,
   "metadata": {},
   "outputs": [
    {
     "name": "stderr",
     "output_type": "stream",
     "text": [
      "/usr/local/miniconda3/envs/nine/lib/python3.9/site-packages/pandas/core/computation/expressions.py:21: UserWarning: Pandas requires version '2.8.0' or newer of 'numexpr' (version '2.7.3' currently installed).\n",
      "  from pandas.core.computation.check import NUMEXPR_INSTALLED\n"
     ]
    }
   ],
   "source": [
    "import numpy as np \n",
    "import pandas as pd\n",
    "import torch\n",
    "import torch.nn as nn\n",
    "import torch.nn.functional as F\n",
    "import itertools\n",
    "from sklearn.model_selection import train_test_split\n",
    "from torch.utils.data import DataLoader\n",
    "import copy\n",
    "from torch import optim\n",
    "\n",
    "from sklearn.preprocessing import MinMaxScaler , StandardScaler\n",
    "from sklearn.datasets import fetch_california_housing\n",
    "\n",
    "import yaml"
   ]
  },
  {
   "cell_type": "code",
   "execution_count": 2,
   "metadata": {},
   "outputs": [],
   "source": [
    "from model import main"
   ]
  },
  {
   "cell_type": "code",
   "execution_count": 3,
   "metadata": {},
   "outputs": [],
   "source": [
    "import argparse\n",
    "parser = argparse.ArgumentParser(description = '')\n",
    "parser.add_argument('-n', '--experiment_name', type = str, default = '', help = 'experiment name')\n",
    "parser.add_argument('--alpha', type = float, default = 0.95, help = 'splitting probability alpha')\n",
    "parser.add_argument('--beta', type = float, default = 2., help = 'splitting probability beta')\n",
    "parser.add_argument('--var_height', type = float, default = 1, help = 'variance for height prior')\n",
    "parser.add_argument('--b_hyperparam1', type = float, default = -1, help = 'hyperparameter1 for b prior')\n",
    "parser.add_argument('--b_hyperparam2', type = float, default = 1, help = 'hyperparameter2 for b prior')\n",
    "parser.add_argument('--gamma_shape', type = float, default = 1, help = 'hyperparameter1 for gamma prior')\n",
    "parser.add_argument('--gamma_scale', type = float, default = 1, help = 'hyperparameter2 for gamma prior')\n",
    "parser.add_argument('--grow_prob', type = float, default = 0.4, help = 'GROW probability')\n",
    "parser.add_argument('--prune_prob', type = float, default = 0.4, help = 'PRUNE probability')\n",
    "parser.add_argument('--change_prob', type = float, default = 0.2, help = 'CHANGE probability')\n",
    "args = parser.parse_args([])"
   ]
  },
  {
   "cell_type": "code",
   "execution_count": 4,
   "metadata": {},
   "outputs": [],
   "source": [
    "data = fetch_california_housing(as_frame=True)\n",
    "data_x, data_y = data[\"data\"] , data[\"target\"]\n",
    "columns_list = data[\"feature_names\"]\n",
    "\n",
    "data_x = np.array(data_x)\n",
    "data_y = np.array(data_y).reshape(-1,1)"
   ]
  },
  {
   "cell_type": "code",
   "execution_count": 5,
   "metadata": {},
   "outputs": [],
   "source": [
    "with open('model/config.yaml', 'r') as f:\n",
    "    config = yaml.safe_load(f)\n",
    "for k, v in vars(args).items():\n",
    "    if v is not None and k in config:\n",
    "        config[k] = v\n",
    "    \n",
    "config['var_height'] = 0.01\n",
    "config['max_depth'] = data_x.shape[1]\n",
    "\n",
    "#For Test\n",
    "config[\"num_samples\"] = 10"
   ]
  },
  {
   "cell_type": "code",
   "execution_count": 6,
   "metadata": {},
   "outputs": [],
   "source": [
    "random_state = 0\n",
    "train_x,test_x,train_y,test_y = train_test_split(data_x,data_y, test_size=0.3, random_state=random_state)\n",
    "\n",
    "scaler = StandardScaler()\n",
    "scaler.fit(train_x)\n",
    "train_x = scaler.transform(train_x)\n",
    "test_x = scaler.transform(test_x)\n",
    "\n",
    "y_mean = np.mean(train_y)\n",
    "y_std = np.std(train_y)"
   ]
  },
  {
   "cell_type": "code",
   "execution_count": 7,
   "metadata": {},
   "outputs": [
    {
     "name": "stderr",
     "output_type": "stream",
     "text": [
      "/home/psh/ANOVA-BART-newversion-official/model/btree.py:99: RuntimeWarning: overflow encountered in exp\n",
      "  term4 = np.exp(term4_2 - term4_1)\n"
     ]
    },
    {
     "name": "stdout",
     "output_type": "stream",
     "text": [
      "0th sample train rmse : 0.7443, test rmse : 0.7551, # ensemble : 200\n",
      "1th sample train rmse : 0.6758, test rmse : 0.6873, # ensemble : 200\n",
      "2th sample train rmse : 0.6403, test rmse : 0.6576, # ensemble : 200\n",
      "3th sample train rmse : 0.6241, test rmse : 0.6418, # ensemble : 200\n",
      "4th sample train rmse : 0.6037, test rmse : 0.6215, # ensemble : 200\n",
      "5th sample train rmse : 0.5934, test rmse : 0.6139, # ensemble : 200\n",
      "6th sample train rmse : 0.5861, test rmse : 0.6073, # ensemble : 200\n",
      "7th sample train rmse : 0.5776, test rmse : 0.6023, # ensemble : 200\n",
      "8th sample train rmse : 0.5731, test rmse : 0.5973, # ensemble : 200\n",
      "9th sample train rmse : 0.5693, test rmse : 0.5939, # ensemble : 200\n"
     ]
    }
   ],
   "source": [
    "samples = main.main(train_x, train_y.flatten(), config, test_x, test_y.flatten() , y_mean , y_std)"
   ]
  },
  {
   "cell_type": "code",
   "execution_count": 25,
   "metadata": {},
   "outputs": [
    {
     "name": "stdout",
     "output_type": "stream",
     "text": [
      "Test RMSE : 0.6186897804924161\n"
     ]
    }
   ],
   "source": [
    "predict_output = main.predict(new_data = test_x,config=config, model = samples)\n",
    "test_rmse = np.sqrt( np.mean( (np.array(test_y.flatten()) - predict_output)**2 ) )\n",
    "print(f\"Test RMSE : {test_rmse}\")"
   ]
  }
 ],
 "metadata": {
  "kernelspec": {
   "display_name": "nine",
   "language": "python",
   "name": "python3"
  },
  "language_info": {
   "codemirror_mode": {
    "name": "ipython",
    "version": 3
   },
   "file_extension": ".py",
   "mimetype": "text/x-python",
   "name": "python",
   "nbconvert_exporter": "python",
   "pygments_lexer": "ipython3",
   "version": "3.9.16"
  }
 },
 "nbformat": 4,
 "nbformat_minor": 2
}
